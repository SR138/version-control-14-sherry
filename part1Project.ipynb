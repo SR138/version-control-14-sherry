{
 "cells": [
  {
   "cell_type": "code",
   "execution_count": 4,
   "metadata": {},
   "outputs": [
    {
     "name": "stdin",
     "output_type": "stream",
     "text": [
      "What is your name?  Jake\n",
      "What is your favorite class you are taking this year?  math\n",
      "What is your current grade in that class?  98\n"
     ]
    },
    {
     "name": "stdout",
     "output_type": "stream",
     "text": [
      "Hi! My name is Jake and my favorite class is math . My current grade in that class is a 98 %.\n"
     ]
    }
   ],
   "source": [
    "name = str(input(\"What is your name? \"))\n",
    "favClass = str(input(\"What is your favorite class you are taking this year? \"))\n",
    "grade = int(input(\"What is your current grade in that class? \"))\n",
    "\n",
    "print(\"Hi! My name is\",name, \"and my favorite class is\",favClass,\". My current grade in that class is a\",grade,\"%.\")"
   ]
  },
  {
   "cell_type": "markdown",
   "metadata": {},
   "source": []
  }
 ],
 "metadata": {
  "kernelspec": {
   "display_name": "Python 3",
   "language": "python",
   "name": "python3"
  },
  "language_info": {
   "codemirror_mode": {
    "name": "ipython",
    "version": 3
   },
   "file_extension": ".py",
   "mimetype": "text/x-python",
   "name": "python",
   "nbconvert_exporter": "python",
   "pygments_lexer": "ipython3",
   "version": "3.8.3"
  }
 },
 "nbformat": 4,
 "nbformat_minor": 4
}
